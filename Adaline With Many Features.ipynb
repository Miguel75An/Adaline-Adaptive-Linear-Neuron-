{
 "cells": [
  {
   "cell_type": "code",
   "execution_count": 1,
   "metadata": {
    "collapsed": true
   },
   "outputs": [],
   "source": [
    "#=========================\n",
    "#MIGUEL DOMINGUEZ\n",
    "# CSC 59929\n",
    "# Machine Learning\n",
    "# Prof. Erik K. Grimmelmann\n",
    "# Date: 09/22/17\n",
    "# Homework Week 4\n",
    "#========================="
   ]
  },
  {
   "cell_type": "code",
   "execution_count": 2,
   "metadata": {
    "collapsed": true
   },
   "outputs": [],
   "source": [
    "#===========\n",
    "#Discussion:\n",
    "#===========\n",
    "\n",
    "#This project helped us explore more about machine learning algorithms. In this particular case, we experimented with different\n",
    "#features and also incremented the number of features. Many questions arised such as 'What is the best accuracy?', 'More features,\n",
    "#the better?', 'What makes the model better?', 'What is meaningful for the algorithm?' \n",
    "\n",
    "#I'll do my best to answer these questions with the results of the Adeline model for the Iris Dataset and also some content from\n",
    "#the book and online resources. \n",
    "\n",
    "#*I first decided to train the Adaline model with the linearly separable (Setosa&Versicolor) training data and then the \n",
    "# non-linearly separable training data (Versicolor&Virginica). \n",
    "#*I separated the training data according to the number of features needed (in this case 2, 3 and 4 feaures)\n",
    "#*In total we obtain 11 cases for a training data case. \n",
    "#*That means we obtain 11 different values for accuracy in each case.  \n",
    "\n",
    "#***Linearly Separable (Setosa&Versicolor)***\n",
    "#For the Linearly Separable case, accuracy is much better when we use two features. \n",
    "#The lowest accuracy is 0.99 and the highest is 1. This means the model can succesfuly\n",
    "#classify an Iris Flower and tell if it belongs to Setosa or Versicolor. Those results\n",
    "#satisfy our expectations since both classes are linearly separable. \n",
    "\n",
    "#However, when we experiment with three or four features the accuracy suddenly drops to \n",
    "#values such as 0.02, 0.01 and 0. Please take a look at the above charts for linearly \n",
    "#separable. We start to notice that increasing the number of features is not beneficial\n",
    "#to the model. \n",
    "\n",
    "#***Non-Linearly Separable (Versicolor&Virginica)***\n",
    "#For the Non-Linearly Separable case, accuracy is decent using only two features. This is\n",
    "#much better than using the Perceptron model which could not converege since those two\n",
    "#classes were not linearly separable. The lowest accuracy is 0.75 and the highest is 0.95\n",
    "\n",
    "#We would expect a higher accuracy if we were to increment the number of features but this\n",
    "#is not the case. Using three features gave us a low accuracy of 0.16 and the highest is 0.31.\n",
    "#Using four features gave us an accuracy of 0.19. \n",
    "\n",
    "#Those are numbers we would not like our machine learning models to have, but if we notice\n",
    "#carefully, some features are more valuable than others. In other words, some features \n",
    "#build better and accurate models than other features that might ruin the model. This \n",
    "#leads us to think more about what features to use when training algorithm. \n",
    "\n",
    "\n",
    "#*Some concepts that are disccused in the book are also important to understand the results.\n",
    "# Variance and Bias. For Variance, training the model with random training subsets will make \n",
    "# the model sensitive to other data, meaning that the model might only work well for the tra-\n",
    "# ing dataset. Problems such as overfitting arise, and using more features might overfit the \n",
    "# the model. As well, model bias presents how far the model is from the correct values, this \n",
    "# is due to training data that is not useful enough or complex enough to train the algorightm.\n",
    "# This brings us back to the concept of choosing only the features that matter or the more\n",
    "# significant ones. \n",
    "\n",
    "#===========\n",
    "# Conclusion\n",
    "#===========\n",
    "\n",
    "# In conclusion, we learned that using more features is not always a good idea. Many factors such as high variance or high\n",
    "# bias affect the way the model classifies data. As well, more features means that the model accuracy might suffer \n",
    "# if garbage or unnecesary feature values are provided. We learned that two features are good enough for the Iris-Dataset.\n",
    "\n",
    "# This leaves us with a lesson to carefully analyze the data before feeding the algorithm. Check what feaures are significant\n",
    "# and if there is a chance we might overfit or bias our model. "
   ]
  },
  {
   "cell_type": "code",
   "execution_count": 3,
   "metadata": {
    "collapsed": true
   },
   "outputs": [],
   "source": [
    "#====NOTES====#\n",
    "#I used both linearly and non-linearly separable cases. \n",
    "#The code can be simplified in a more efficient manner."
   ]
  },
  {
   "cell_type": "code",
   "execution_count": 4,
   "metadata": {
    "collapsed": true
   },
   "outputs": [],
   "source": [
    "import numpy as np\n",
    "import pandas as pd\n",
    "import matplotlib.pyplot as plt \n",
    "from matplotlib.colors import ListedColormap"
   ]
  },
  {
   "cell_type": "code",
   "execution_count": 5,
   "metadata": {
    "collapsed": true
   },
   "outputs": [],
   "source": [
    "#let us first describe the Adaline Class."
   ]
  },
  {
   "cell_type": "code",
   "execution_count": 6,
   "metadata": {
    "collapsed": true
   },
   "outputs": [],
   "source": [
    "class AdalineGD(object):\n",
    "    \"\"\"ADAptive LInear NEuron classifier.\n",
    "\n",
    "    Code from \"Python Machine Learning,\" Sebastian Raschka, Packt Publishing, 2015,\n",
    "    with modifications.\n",
    "\n",
    "    Parameters\n",
    "    ------------\n",
    "    eta : float\n",
    "        Learning rate (between 0.0 and 1.0)\n",
    "    n_iter : int\n",
    "        Passes over the training dataset.\n",
    "\n",
    "    Attributes\n",
    "    -----------\n",
    "    w_ : 1d-array\n",
    "        Weights after fitting.\n",
    "    errors_ : list\n",
    "        Number of misclassifications in every epoch.\n",
    "\n",
    "    \"\"\"\n",
    "    def __init__(self, eta=0.01, n_iter=50):\n",
    "        self.eta = eta\n",
    "        self.n_iter = n_iter\n",
    "\n",
    "    def fit(self, X, y):\n",
    "        \"\"\" Fit training data.\n",
    "\n",
    "        Parameters\n",
    "        ----------\n",
    "        X : {array-like}, shape = [n_samples, n_features]\n",
    "            Training vectors, where n_samples is the number of samples and\n",
    "            n_features is the number of features.\n",
    "        y : array-like, shape = [n_samples]\n",
    "            Target values.\n",
    "\n",
    "        Returns\n",
    "        -------\n",
    "        self : object\n",
    "\n",
    "        \"\"\"\n",
    "        self.w_ = np.zeros(1 + X.shape[1])\n",
    "        self.cost_ = []\n",
    "\n",
    "        for i in range(self.n_iter):\n",
    "            output = self.net_input(X)\n",
    "            errors = (y - output)\n",
    "            #self.w_[1:] += self.eta * X.T.dot(errors)\n",
    "            self.w_[1:] = self.w_[1:] + self.eta * X.T.dot(errors) #Above gives an error\n",
    "            #self.w_[0] += self.eta * errors.sum()\n",
    "            self.w_[0] = self.w_[0] +  self.eta * errors.sum()\n",
    "            cost = (errors**2).sum() / 2.0\n",
    "            self.cost_.append(cost)\n",
    "        return self\n",
    "\n",
    "    def net_input(self, X):\n",
    "        \"\"\" Calculate net input \"\"\"\n",
    "        return (np.dot(X, self.w_[1:]) + self.w_[0])\n",
    "\n",
    "    def activation(self, X):\n",
    "        \"\"\" Compute linear activation \"\"\"\n",
    "        return self.net_input(X)\n",
    "\n",
    "    def predict(self, X):\n",
    "        \"\"\" Return class label after unit step \"\"\"\n",
    "        return np.where(self.activation(X) >= 0.0, 1, -1) \n",
    "    \n",
    "    def accuracy(self, X, y):\n",
    "        \"\"\" Return accuracy of the model \"\"\"\n",
    "        return (1.0 - abs(y - self.predict(X)).sum() / (2.0 * y.size))\n",
    "        "
   ]
  },
  {
   "cell_type": "code",
   "execution_count": 7,
   "metadata": {},
   "outputs": [
    {
     "data": {
      "text/html": [
       "<div>\n",
       "<style>\n",
       "    .dataframe thead tr:only-child th {\n",
       "        text-align: right;\n",
       "    }\n",
       "\n",
       "    .dataframe thead th {\n",
       "        text-align: left;\n",
       "    }\n",
       "\n",
       "    .dataframe tbody tr th {\n",
       "        vertical-align: top;\n",
       "    }\n",
       "</style>\n",
       "<table border=\"1\" class=\"dataframe\">\n",
       "  <thead>\n",
       "    <tr style=\"text-align: right;\">\n",
       "      <th></th>\n",
       "      <th>0</th>\n",
       "      <th>1</th>\n",
       "      <th>2</th>\n",
       "      <th>3</th>\n",
       "      <th>4</th>\n",
       "    </tr>\n",
       "  </thead>\n",
       "  <tbody>\n",
       "    <tr>\n",
       "      <th>0</th>\n",
       "      <td>5.1</td>\n",
       "      <td>3.5</td>\n",
       "      <td>1.4</td>\n",
       "      <td>0.2</td>\n",
       "      <td>Iris-setosa</td>\n",
       "    </tr>\n",
       "    <tr>\n",
       "      <th>1</th>\n",
       "      <td>4.9</td>\n",
       "      <td>3.0</td>\n",
       "      <td>1.4</td>\n",
       "      <td>0.2</td>\n",
       "      <td>Iris-setosa</td>\n",
       "    </tr>\n",
       "    <tr>\n",
       "      <th>2</th>\n",
       "      <td>4.7</td>\n",
       "      <td>3.2</td>\n",
       "      <td>1.3</td>\n",
       "      <td>0.2</td>\n",
       "      <td>Iris-setosa</td>\n",
       "    </tr>\n",
       "    <tr>\n",
       "      <th>3</th>\n",
       "      <td>4.6</td>\n",
       "      <td>3.1</td>\n",
       "      <td>1.5</td>\n",
       "      <td>0.2</td>\n",
       "      <td>Iris-setosa</td>\n",
       "    </tr>\n",
       "    <tr>\n",
       "      <th>4</th>\n",
       "      <td>5.0</td>\n",
       "      <td>3.6</td>\n",
       "      <td>1.4</td>\n",
       "      <td>0.2</td>\n",
       "      <td>Iris-setosa</td>\n",
       "    </tr>\n",
       "  </tbody>\n",
       "</table>\n",
       "</div>"
      ],
      "text/plain": [
       "     0    1    2    3            4\n",
       "0  5.1  3.5  1.4  0.2  Iris-setosa\n",
       "1  4.9  3.0  1.4  0.2  Iris-setosa\n",
       "2  4.7  3.2  1.3  0.2  Iris-setosa\n",
       "3  4.6  3.1  1.5  0.2  Iris-setosa\n",
       "4  5.0  3.6  1.4  0.2  Iris-setosa"
      ]
     },
     "execution_count": 7,
     "metadata": {},
     "output_type": "execute_result"
    }
   ],
   "source": [
    "#Obtain Iris Dataset and save it to a Pandas Frame\n",
    "iris = pd.read_csv('https://archive.ics.uci.edu/ml/machine-learning-databases/iris/iris.data', header = None)\n",
    "iris.head()"
   ]
  },
  {
   "cell_type": "code",
   "execution_count": 8,
   "metadata": {
    "collapsed": true
   },
   "outputs": [],
   "source": [
    "#We choose classes Setosa and Virginica for linearly separable. (SV means Setosa&Versicolor)\n",
    "SV = iris.iloc[0:100,:].values\n",
    "#We choose classes Versicolor and Virginica for non-linearly separable (VV means Versicolor&Virginica)\n",
    "VV = iris.iloc[50:150].values"
   ]
  },
  {
   "cell_type": "code",
   "execution_count": 9,
   "metadata": {
    "collapsed": true
   },
   "outputs": [],
   "source": [
    "#Standardize SV and VV\n",
    "for i in range(0,4):\n",
    "    SV[:,i] = (SV[:,i] - SV[:,i].mean()) / SV[:,i].std()\n",
    "    \n",
    "for j in range(0,4):\n",
    "    VV[:,j] = (VV[:,j] - VV[:,j].mean()) / VV[:,j].std()"
   ]
  },
  {
   "cell_type": "code",
   "execution_count": 10,
   "metadata": {
    "collapsed": true
   },
   "outputs": [],
   "source": [
    "#Obtain the 'Class' columns for both cases. \n",
    "SVY = SV[:,4]\n",
    "SVY = np.where(SVY == 'Iris-setosa', 1, -1)\n",
    "VVY = VV[:,4]\n",
    "VVY = np.where(VVY == 'Iris-versicolor', 1, -1)"
   ]
  },
  {
   "cell_type": "code",
   "execution_count": 11,
   "metadata": {
    "collapsed": true
   },
   "outputs": [],
   "source": [
    "#Obtain training matrices (n_samples,n_features)\n",
    "\n",
    "#   0 = Sepal Length (cm)\n",
    "#   1 = Sepal Width  (cm)\n",
    "#   2 = Petal Length (cm)\n",
    "#   3 = Petal Width  (cm)"
   ]
  },
  {
   "cell_type": "code",
   "execution_count": 12,
   "metadata": {
    "collapsed": true
   },
   "outputs": [],
   "source": [
    "# Matrices (n_samples, 2 features) Setosa&Versicolor\n",
    "\n",
    "# 01 Sepal Length & Sepal Width\n",
    "SV01 = SV[:,(0,1)]\n",
    "# 02 Sepal Length & Petal Length\n",
    "SV02 = SV[:,(0,2)]\n",
    "# 03 Sepal Length & Petal Width\n",
    "SV03 = SV[:,(0,3)]\n",
    "# 12 Sepal Width  & Petal Length\n",
    "SV12 = SV[:,(1,2)]\n",
    "# 13 Sepal Width  & Petal Width\n",
    "SV13 = SV[:,(1,3)]\n",
    "# 23 Petal Length & Petal Width  \n",
    "SV23 = SV[:,(2,3)]\n",
    "\n",
    "# Matrices (n_samples, 2 features) Versicolor&Virginica\n",
    "\n",
    "# 01 Sepal Length & Sepal Width\n",
    "VV01 = VV[:,(0,1)]\n",
    "# 02 Sepal Length & Petal Length\n",
    "VV02 = VV[:,(0,2)]\n",
    "# 03 Sepal Length & Petal Width\n",
    "VV03 = VV[:,(0,3)]\n",
    "# 12 Sepal Width  & Petal Length\n",
    "VV12 = VV[:,(1,2)]\n",
    "# 13 Sepal Width  & Petal Width\n",
    "VV13 = VV[:,(1,3)]\n",
    "# 23 Petal Length & Petal Width  \n",
    "VV23 = VV[:,(2,3)]"
   ]
  },
  {
   "cell_type": "code",
   "execution_count": 13,
   "metadata": {
    "collapsed": true
   },
   "outputs": [],
   "source": [
    "# Matrices (n_samples, 3 features) Setosa&Versicolor\n",
    "\n",
    "# 012 Sepal Length & Sepal Width  & Petal Length\n",
    "SV012 =  SV[:,(0,1,2)]\n",
    "# 013 Sepal Length & Sepal Width  & Petal Width\n",
    "SV013 =  SV[:,(0,1,3)]\n",
    "# 023 Sepal Length & Petal Length & Petal Width\n",
    "SV023 =  SV[:,(0,2,3)]\n",
    "# 123 Sepal Width  & Petal Length & Petal Width\n",
    "SV123 =  SV[:,(1,2,3)]\n",
    "\n",
    "# Matrices (n_samples, 3 features) Versicolor&Virginica\n",
    "\n",
    "# 012 Sepal Length & Sepal Width  & Petal Length\n",
    "VV012 =  VV[:,(0,1,2)]\n",
    "# 013 Sepal Length & Sepal Width  & Petal Width\n",
    "VV013 =  VV[:,(0,1,3)]\n",
    "# 023 Sepal Length & Petal Length & Petal Width\n",
    "VV023 =  VV[:,(0,2,3)]\n",
    "# 123 Sepal Width  & Petal Length & Petal Width\n",
    "VV123 =  VV[:,(1,2,3)]"
   ]
  },
  {
   "cell_type": "code",
   "execution_count": 14,
   "metadata": {
    "collapsed": true
   },
   "outputs": [],
   "source": [
    "# Matrix (n_samples, 4 features) Setosa&Versicolor\n",
    "\n",
    "# 0123 Sepal Length & Sepal Width  & Petal Length & Petal Width \n",
    "SV0123 =  SV[:,(0,1,2,3)]\n",
    "\n",
    "# Matrix (n_samples, 4 features) Versicolor&Virginica\n",
    "\n",
    "# 0123 Sepal Length & Sepal Width  & Petal Length & Petal Width \n",
    "VV0123 =  VV[:,(0,1,2,3)]"
   ]
  },
  {
   "cell_type": "code",
   "execution_count": 15,
   "metadata": {
    "collapsed": true,
    "scrolled": true
   },
   "outputs": [],
   "source": [
    "#We can start training each Adaline model. "
   ]
  },
  {
   "cell_type": "code",
   "execution_count": 16,
   "metadata": {
    "collapsed": true
   },
   "outputs": [],
   "source": [
    "#Setosa&Versicolor\n",
    "\n",
    "#2 Features \n",
    "\n",
    "SVada01 = AdalineGD(n_iter=10, eta=0.01).fit(SV01, SVY)\n",
    "SVada02 = AdalineGD(n_iter=10, eta=0.01).fit(SV02, SVY)\n",
    "SVada03 = AdalineGD(n_iter=10, eta=0.01).fit(SV03, SVY)\n",
    "SVada12 = AdalineGD(n_iter=10, eta=0.01).fit(SV12, SVY)\n",
    "SVada13 = AdalineGD(n_iter=10, eta=0.01).fit(SV13, SVY)\n",
    "SVada23 = AdalineGD(n_iter=10, eta=0.01).fit(SV23, SVY)\n",
    "\n",
    "#3 Features\n",
    "\n",
    "SVada012 = AdalineGD(n_iter=10, eta=0.01).fit(SV012, SVY)\n",
    "SVada013 = AdalineGD(n_iter=10, eta=0.01).fit(SV013, SVY)\n",
    "SVada023 = AdalineGD(n_iter=10, eta=0.01).fit(SV023, SVY)\n",
    "SVada123 = AdalineGD(n_iter=10, eta=0.01).fit(SV123, SVY)\n",
    "\n",
    "#4 Features\n",
    "\n",
    "SVada0123 = AdalineGD(n_iter=10, eta=0.01).fit(SV0123, SVY)\n",
    "\n",
    "#Versicolor&Virginica\n",
    "\n",
    "#2 Features \n",
    "\n",
    "VVada01 = AdalineGD(n_iter=10, eta=0.01).fit(VV01, VVY)\n",
    "VVada02 = AdalineGD(n_iter=10, eta=0.01).fit(VV02, VVY)\n",
    "VVada03 = AdalineGD(n_iter=10, eta=0.01).fit(VV03, VVY)\n",
    "VVada12 = AdalineGD(n_iter=10, eta=0.01).fit(VV12, VVY)\n",
    "VVada13 = AdalineGD(n_iter=10, eta=0.01).fit(VV13, VVY)\n",
    "VVada23 = AdalineGD(n_iter=10, eta=0.01).fit(VV23, VVY)\n",
    "\n",
    "#3 Features\n",
    "\n",
    "VVada012 = AdalineGD(n_iter=10, eta=0.01).fit(VV012, VVY)\n",
    "VVada013 = AdalineGD(n_iter=10, eta=0.01).fit(VV013, VVY)\n",
    "VVada023 = AdalineGD(n_iter=10, eta=0.01).fit(VV023, VVY)\n",
    "VVada123 = AdalineGD(n_iter=10, eta=0.01).fit(VV123, VVY)\n",
    "\n",
    "#4 Features\n",
    "\n",
    "VVada0123 = AdalineGD(n_iter=10, eta=0.01).fit(VV0123, VVY)"
   ]
  },
  {
   "cell_type": "code",
   "execution_count": 17,
   "metadata": {
    "collapsed": true
   },
   "outputs": [],
   "source": [
    "#We will now collect the accuracy for each model using two cases."
   ]
  },
  {
   "cell_type": "code",
   "execution_count": 18,
   "metadata": {
    "collapsed": true
   },
   "outputs": [],
   "source": [
    "SVrows = []\n",
    "#Setosa&Virginica\n",
    "SVrow0 = []\n",
    "SVrow0.append('-')\n",
    "SVrow0.append(SVada01.accuracy(SV01,SVY))\n",
    "SVrow0.append(SVada02.accuracy(SV02,SVY))\n",
    "SVrow0.append(SVada03.accuracy(SV03,SVY))\n",
    "SVrow1 = []\n",
    "SVrow1.append(SVada01.accuracy(SV01,SVY))\n",
    "SVrow1.append('-')\n",
    "SVrow1.append(SVada12.accuracy(SV12,SVY))\n",
    "SVrow1.append(SVada13.accuracy(SV13,SVY))\n",
    "SVrow2 = []\n",
    "SVrow2.append(SVada02.accuracy(SV02,SVY))\n",
    "SVrow2.append(SVada12.accuracy(SV12,SVY))\n",
    "SVrow2.append('-')\n",
    "SVrow2.append(SVada23.accuracy(SV23,SVY))\n",
    "SVrow3 = []\n",
    "SVrow3.append(SVada03.accuracy(SV03,SVY))\n",
    "SVrow3.append(SVada13.accuracy(SV13,SVY))\n",
    "SVrow3.append(SVada23.accuracy(SV23,SVY))\n",
    "SVrow3.append('-')\n",
    "SVrows = [SVrow0,SVrow1,SVrow2,SVrow3]"
   ]
  },
  {
   "cell_type": "code",
   "execution_count": 19,
   "metadata": {},
   "outputs": [
    {
     "data": {
      "image/png": "[encoded data removed]",
      "text/plain": [
       "<matplotlib.figure.Figure at 0x1e73edef5c0>"
      ]
     },
     "metadata": {},
     "output_type": "display_data"
    }
   ],
   "source": [
    "#TABLE FOR ACCURACY FOR 2 FEATURES\n",
    "fig, ax = plt.subplots()\n",
    "# Hide axes\n",
    "ax.xaxis.set_visible(False) \n",
    "ax.yaxis.set_visible(False)\n",
    "# Table\n",
    "colLabel = [\"Sepal Length\", \"Sepal Width\", \"Petal Length\", \"Petal Width\"]\n",
    "rowsLabel = [\"Sepal Length\", \"Sepal Width\", \"Petal Length\", \"Petal Width\"]\n",
    "ax.table(cellText=SVrows, rowLabels=rowsLabel,colLabels=colLabel,loc='center')\n",
    "plt.title('Accuracy Using Two Features (Setosa & Versicolor)')\n",
    "plt.show()"
   ]
  },
  {
   "cell_type": "code",
   "execution_count": 20,
   "metadata": {
    "collapsed": true
   },
   "outputs": [],
   "source": [
    "#We will now collect the accuracy for each model using three cases."
   ]
  },
  {
   "cell_type": "code",
   "execution_count": 21,
   "metadata": {},
   "outputs": [
    {
     "data": {
      "text/plain": [
       "[[0.0, 0.010000000000000009, 0.020000000000000018, 0.0]]"
      ]
     },
     "execution_count": 21,
     "metadata": {},
     "output_type": "execute_result"
    }
   ],
   "source": [
    "SVrows = []\n",
    "#Setosa&Virginica\n",
    "SVrow0 = []\n",
    "SVrow0.append(SVada012.accuracy(SV012,SVY))\n",
    "SVrow0.append(SVada013.accuracy(SV013,SVY))\n",
    "SVrow0.append(SVada023.accuracy(SV023,SVY))\n",
    "SVrow0.append(SVada123.accuracy(SV123,SVY))\n",
    "SVrows = [SVrow0]\n",
    "SVrows"
   ]
  },
  {
   "cell_type": "code",
   "execution_count": 22,
   "metadata": {},
   "outputs": [
    {
     "data": {
      "image/png": "[encoded data removed]",
      "text/plain": [
       "<matplotlib.figure.Figure at 0x1e73edef3c8>"
      ]
     },
     "metadata": {},
     "output_type": "display_data"
    }
   ],
   "source": [
    "#TABLE FOR ACCURACY FOR 3 FEATURES\n",
    "fig, ax = plt.subplots(figsize=(17,2))\n",
    "# Hide axes\n",
    "ax.xaxis.set_visible(False) \n",
    "ax.yaxis.set_visible(False)\n",
    "# Table\n",
    "colLabel = [\"Sepal Length & Sepal Width & Petal Length\", \"Sepal Length & Sepal Width & Petal Width\", \"Sepal Length & Petal Length & Petal Width\", \"Sepal Width & Petal Length & Petal Width\"]\n",
    "ax.table(cellText=SVrows, colLabels=colLabel,loc='center')\n",
    "plt.title('Accuracy Using Three Features (Setosa & Versicolor)')\n",
    "plt.show()"
   ]
  },
  {
   "cell_type": "code",
   "execution_count": 23,
   "metadata": {
    "collapsed": true
   },
   "outputs": [],
   "source": [
    "#We will now collect the accuracy for each model using four cases"
   ]
  },
  {
   "cell_type": "code",
   "execution_count": 24,
   "metadata": {},
   "outputs": [
    {
     "data": {
      "text/plain": [
       "[[0.0]]"
      ]
     },
     "execution_count": 24,
     "metadata": {},
     "output_type": "execute_result"
    }
   ],
   "source": [
    "SVrows = []\n",
    "#Setosa&Virginica\n",
    "SVrow0 = []\n",
    "SVrow0.append(SVada0123.accuracy(SV0123,SVY))\n",
    "SVrows = [SVrow0]\n",
    "SVrows"
   ]
  },
  {
   "cell_type": "code",
   "execution_count": 25,
   "metadata": {},
   "outputs": [
    {
     "data": {
      "image/png": "[encoded data removed]",
      "text/plain": [
       "<matplotlib.figure.Figure at 0x1e73f33d0f0>"
      ]
     },
     "metadata": {},
     "output_type": "display_data"
    }
   ],
   "source": [
    "#TABLE FOR ACCURACY FOR 4 FEATURES\n",
    "fig, ax = plt.subplots(figsize=(10,3))\n",
    "# Hide axes\n",
    "ax.xaxis.set_visible(False) \n",
    "ax.yaxis.set_visible(False)\n",
    "# Table\n",
    "colLabel = [\"Sepal Length & Sepal Width & Petal Length & Petal Width\"]\n",
    "ax.table(cellText=SVrows, colLabels=colLabel,loc='center')\n",
    "plt.title('Accuracy Using Four Features (Setosa & Versicolor)')\n",
    "plt.show()"
   ]
  },
  {
   "cell_type": "code",
   "execution_count": 26,
   "metadata": {
    "collapsed": true,
    "scrolled": true
   },
   "outputs": [],
   "source": [
    "VVrows = []\n",
    "#Versicolor&Virginica\n",
    "VVrow0 = []\n",
    "VVrow0.append('-')\n",
    "VVrow0.append(VVada01.accuracy(VV01,VVY))\n",
    "VVrow0.append(VVada02.accuracy(VV02,VVY))\n",
    "VVrow0.append(VVada03.accuracy(VV03,VVY))\n",
    "VVrow1 = []\n",
    "VVrow1.append(VVada01.accuracy(VV01,VVY))\n",
    "VVrow1.append('-')\n",
    "VVrow1.append(VVada12.accuracy(VV12,VVY))\n",
    "VVrow1.append(VVada13.accuracy(VV13,VVY))\n",
    "VVrow2 = []\n",
    "VVrow2.append(VVada02.accuracy(VV02,VVY))\n",
    "VVrow2.append(VVada12.accuracy(VV12,VVY))\n",
    "VVrow2.append('-')\n",
    "VVrow2.append(VVada23.accuracy(VV23,VVY))\n",
    "VVrow3 = []\n",
    "VVrow3.append(VVada03.accuracy(VV03,VVY))\n",
    "VVrow3.append(VVada13.accuracy(VV13,VVY))\n",
    "VVrow3.append(VVada23.accuracy(VV23,VVY))\n",
    "VVrow3.append('-')\n",
    "VVrows = [VVrow0,VVrow1,VVrow2,VVrow3]"
   ]
  },
  {
   "cell_type": "code",
   "execution_count": 27,
   "metadata": {},
   "outputs": [
    {
     "data": {
      "image/png": "[encoded data removed]",
      "text/plain": [
       "<matplotlib.figure.Figure at 0x1e73ef4bc18>"
      ]
     },
     "metadata": {},
     "output_type": "display_data"
    }
   ],
   "source": [
    "#TABLE FOR ACCURACY FOR 2 FEATURES\n",
    "fig, ax = plt.subplots()\n",
    "# Hide axes\n",
    "ax.xaxis.set_visible(False) \n",
    "ax.yaxis.set_visible(False)\n",
    "# Table\n",
    "colLabel = [\"Sepal Length\", \"Sepal Width\", \"Petal Length\", \"Petal Width\"]\n",
    "rowsLabel = [\"Sepal Length\", \"Sepal Width\", \"Petal Length\", \"Petal Width\"]\n",
    "ax.table(cellText=VVrows, rowLabels=rowsLabel,colLabels=colLabel,loc='center')\n",
    "plt.title('Accuracy Using Two Features (Versicolor & Virginica)')\n",
    "plt.show()"
   ]
  },
  {
   "cell_type": "code",
   "execution_count": 28,
   "metadata": {
    "collapsed": true
   },
   "outputs": [],
   "source": [
    "#We will now collect the accuracy for each model using three cases."
   ]
  },
  {
   "cell_type": "code",
   "execution_count": 29,
   "metadata": {},
   "outputs": [
    {
     "data": {
      "text/plain": [
       "[[0.25, 0.31000000000000005, 0.12, 0.16000000000000003]]"
      ]
     },
     "execution_count": 29,
     "metadata": {},
     "output_type": "execute_result"
    }
   ],
   "source": [
    "VVrows = []\n",
    "#Versicolor&Virginica\n",
    "VVrow0 = []\n",
    "VVrow0.append(VVada012.accuracy(VV012,VVY))\n",
    "VVrow0.append(VVada013.accuracy(VV013,VVY))\n",
    "VVrow0.append(VVada023.accuracy(VV023,VVY))\n",
    "VVrow0.append(VVada123.accuracy(VV123,VVY))\n",
    "VVrows = [VVrow0]\n",
    "VVrows"
   ]
  },
  {
   "cell_type": "code",
   "execution_count": 30,
   "metadata": {},
   "outputs": [
    {
     "data": {
      "image/png": "[encoded data removed]",
      "text/plain": [
       "<matplotlib.figure.Figure at 0x1e73ef15278>"
      ]
     },
     "metadata": {},
     "output_type": "display_data"
    }
   ],
   "source": [
    "#TABLE FOR ACCURACY FOR 3 FEATURES\n",
    "fig, ax = plt.subplots(figsize=(17,2))\n",
    "# Hide axes\n",
    "ax.xaxis.set_visible(False) \n",
    "ax.yaxis.set_visible(False)\n",
    "# Table\n",
    "colLabel = [\"Sepal Length & Sepal Width & Petal Length\", \"Sepal Length & Sepal Width & Petal Width\", \"Sepal Length & Petal Length & Petal Width\", \"Sepal Width & Petal Length & Petal Width\"]\n",
    "ax.table(cellText=VVrows, colLabels=colLabel,loc='center')\n",
    "plt.title('Accuracy Using Three Features (Versicolor & Virginica)')\n",
    "plt.show()"
   ]
  },
  {
   "cell_type": "code",
   "execution_count": 31,
   "metadata": {
    "collapsed": true
   },
   "outputs": [],
   "source": [
    "#We will now collect the accuracy for each model using four cases"
   ]
  },
  {
   "cell_type": "code",
   "execution_count": 32,
   "metadata": {},
   "outputs": [
    {
     "data": {
      "text/plain": [
       "[[0.18999999999999995]]"
      ]
     },
     "execution_count": 32,
     "metadata": {},
     "output_type": "execute_result"
    }
   ],
   "source": [
    "VVrows = []\n",
    "#Setosa&Virginica\n",
    "VVrow0 = []\n",
    "VVrow0.append(VVada0123.accuracy(VV0123,VVY))\n",
    "VVrows = [VVrow0]\n",
    "VVrows"
   ]
  },
  {
   "cell_type": "code",
   "execution_count": 33,
   "metadata": {},
   "outputs": [
    {
     "data": {
      "image/png": "[encoded data removed]",
      "text/plain": [
       "<matplotlib.figure.Figure at 0x1e73f445278>"
      ]
     },
     "metadata": {},
     "output_type": "display_data"
    }
   ],
   "source": [
    "#TABLE FOR ACCURACY FOR 4 FEATURES\n",
    "fig, ax = plt.subplots(figsize=(10,3))\n",
    "# Hide axes\n",
    "ax.xaxis.set_visible(False) \n",
    "ax.yaxis.set_visible(False)\n",
    "# Table\n",
    "colLabel = [\"Sepal Length & Sepal Width & Petal Length & Petal Width\"]\n",
    "ax.table(cellText=VVrows, colLabels=colLabel,loc='center')\n",
    "plt.title('Accuracy Using Four Features (Versicolor & Virginica)')\n",
    "plt.show()"
   ]
  },
  {
   "cell_type": "code",
   "execution_count": null,
   "metadata": {
    "collapsed": true
   },
   "outputs": [],
   "source": []
  },
  {
   "cell_type": "code",
   "execution_count": null,
   "metadata": {
    "collapsed": true
   },
   "outputs": [],
   "source": []
  },
  {
   "cell_type": "code",
   "execution_count": null,
   "metadata": {
    "collapsed": true
   },
   "outputs": [],
   "source": []
  }
 ],
 "metadata": {
  "kernelspec": {
   "display_name": "Python 3",
   "language": "python",
   "name": "python3"
  },
  "language_info": {
   "codemirror_mode": {
    "name": "ipython",
    "version": 3
   },
   "file_extension": ".py",
   "mimetype": "text/x-python",
   "name": "python",
   "nbconvert_exporter": "python",
   "pygments_lexer": "ipython3",
   "version": "3.6.1"
  }
 },
 "nbformat": 4,
 "nbformat_minor": 2
}
